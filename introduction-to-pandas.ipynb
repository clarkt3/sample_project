{
 "cells": [
  {
   "cell_type": "code",
   "execution_count": 1,
   "id": "1b28c413-1471-4dae-ae31-313a8a0d8a88",
   "metadata": {},
   "outputs": [],
   "source": [
    "import pandas as pd"
   ]
  },
  {
   "cell_type": "code",
   "execution_count": 5,
   "id": "870e81e4-f687-499a-8242-6e24a1501fcb",
   "metadata": {},
   "outputs": [],
   "source": [
    "# Two main datatypes\n",
    "series = pd.Series([\"BMW\", \"Toyota\", \"Honda\"])"
   ]
  },
  {
   "cell_type": "code",
   "execution_count": 6,
   "id": "4348942b-d75a-422d-a2cd-371fa9de7abc",
   "metadata": {},
   "outputs": [
    {
     "data": {
      "text/plain": [
       "0       BMW\n",
       "1    Toyota\n",
       "2     Honda\n",
       "dtype: object"
      ]
     },
     "execution_count": 6,
     "metadata": {},
     "output_type": "execute_result"
    }
   ],
   "source": [
    "series"
   ]
  },
  {
   "cell_type": "code",
   "execution_count": 7,
   "id": "acae2f24-ecdf-4df5-a3cb-d9176d1c8a45",
   "metadata": {},
   "outputs": [],
   "source": [
    "# series = 1-dimensional"
   ]
  },
  {
   "cell_type": "code",
   "execution_count": 8,
   "id": "d50c61c9-2a53-46b8-b7a5-341bb5e719b9",
   "metadata": {},
   "outputs": [
    {
     "data": {
      "text/plain": [
       "0    White\n",
       "1    Green\n",
       "2    Black\n",
       "dtype: object"
      ]
     },
     "execution_count": 8,
     "metadata": {},
     "output_type": "execute_result"
    }
   ],
   "source": [
    "colors = pd.Series([\"White\", \"Green\", \"Black\"])\n",
    "colors"
   ]
  },
  {
   "cell_type": "code",
   "execution_count": 9,
   "id": "1cbdc81b-c426-46bc-8a5a-2f3a0ec901c5",
   "metadata": {},
   "outputs": [],
   "source": [
    "# dataframe = 2-dimensional (far more common)"
   ]
  },
  {
   "cell_type": "code",
   "execution_count": null,
   "id": "7edbccef-8ab5-4579-8d55-ca987240fc4e",
   "metadata": {},
   "outputs": [],
   "source": []
  }
 ],
 "metadata": {
  "kernelspec": {
   "display_name": "Python 3 (ipykernel)",
   "language": "python",
   "name": "python3"
  },
  "language_info": {
   "codemirror_mode": {
    "name": "ipython",
    "version": 3
   },
   "file_extension": ".py",
   "mimetype": "text/x-python",
   "name": "python",
   "nbconvert_exporter": "python",
   "pygments_lexer": "ipython3",
   "version": "3.12.5"
  }
 },
 "nbformat": 4,
 "nbformat_minor": 5
}
