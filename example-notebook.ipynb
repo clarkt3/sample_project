{
 "cells": [
  {
   "cell_type": "code",
   "execution_count": 3,
   "id": "370ee3d9-2cf5-4a7e-a0b3-d42740bc0567",
   "metadata": {},
   "outputs": [
    {
     "name": "stdout",
     "output_type": "stream",
     "text": [
      "Hello, World. I'm learning how to use Juypter Notebooks!\n"
     ]
    }
   ],
   "source": [
    "print(\"Hello, World. I'm learning how to use Juypter Notebooks!\")"
   ]
  },
  {
   "cell_type": "code",
   "execution_count": 4,
   "id": "16b15234-33da-418a-803a-a69aa7c52f83",
   "metadata": {},
   "outputs": [],
   "source": [
    "a = 5"
   ]
  },
  {
   "cell_type": "code",
   "execution_count": 5,
   "id": "2b816118-6bdb-4a74-bf1e-c127b1bbda98",
   "metadata": {},
   "outputs": [],
   "source": [
    "a = 6"
   ]
  },
  {
   "cell_type": "code",
   "execution_count": 6,
   "id": "05b7016d-2ee4-474c-851e-53ce576e8b2b",
   "metadata": {},
   "outputs": [
    {
     "data": {
      "text/plain": [
       "6"
      ]
     },
     "execution_count": 6,
     "metadata": {},
     "output_type": "execute_result"
    }
   ],
   "source": [
    "a"
   ]
  },
  {
   "cell_type": "code",
   "execution_count": null,
   "id": "72d622c8-1271-4f29-bdbe-15dc86a619e6",
   "metadata": {},
   "outputs": [],
   "source": []
  }
 ],
 "metadata": {
  "kernelspec": {
   "display_name": "Python 3 (ipykernel)",
   "language": "python",
   "name": "python3"
  },
  "language_info": {
   "codemirror_mode": {
    "name": "ipython",
    "version": 3
   },
   "file_extension": ".py",
   "mimetype": "text/x-python",
   "name": "python",
   "nbconvert_exporter": "python",
   "pygments_lexer": "ipython3",
   "version": "3.12.5"
  }
 },
 "nbformat": 4,
 "nbformat_minor": 5
}
