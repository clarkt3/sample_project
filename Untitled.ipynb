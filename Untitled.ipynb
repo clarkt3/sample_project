{
 "cells": [
  {
   "cell_type": "code",
   "execution_count": null,
   "id": "4195648b-e307-4c8b-ad4a-88f45e25036f",
   "metadata": {},
   "outputs": [],
   "source": []
  }
 ],
 "metadata": {
  "kernelspec": {
   "display_name": "",
   "name": ""
  },
  "language_info": {
   "name": ""
  }
 },
 "nbformat": 4,
 "nbformat_minor": 5
}
