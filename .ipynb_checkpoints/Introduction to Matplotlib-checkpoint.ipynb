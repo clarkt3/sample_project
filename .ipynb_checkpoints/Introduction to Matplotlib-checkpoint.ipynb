{
 "cells": [
  {
   "cell_type": "code",
   "execution_count": 12,
   "id": "0c7268dd-1d09-4d20-a992-adc893e87e79",
   "metadata": {},
   "outputs": [],
   "source": [
    "%matplotlib inline\n",
    "import matplotlib.pyplot as plt\n",
    "import pandas as pd\n",
    "import numpy as np"
   ]
  },
  {
   "cell_type": "markdown",
   "id": "b12c11b6-7257-43e7-ac55-9622164c8bee",
   "metadata": {
    "jp-MarkdownHeadingCollapsed": true
   },
   "source": [
    "## Introduction to Matplotlib"
   ]
  },
  {
   "cell_type": "markdown",
   "id": "cf6ffa70-53b7-4feb-98de-d64e51e1e26a",
   "metadata": {},
   "source": [
    "## Why MatPlotlib?\n",
    "\n",
    "- Built on numpy arrays (and python)\n",
    "- Integrates directly with Pandas\n",
    "- Can create basic or advanced plots"
   ]
  },
  {
   "cell_type": "code",
   "execution_count": 9,
   "id": "7f318fc0-d858-4db1-8812-dabd5094673a",
   "metadata": {},
   "outputs": [],
   "source": [
    "\n",
    "import matplotlib.pyplot as plt\n",
    "import pandas as pd\n",
    "import numpy as np"
   ]
  },
  {
   "cell_type": "code",
   "execution_count": 10,
   "id": "87b1c2bd-45fe-4a4e-8b33-83aba56c8c7b",
   "metadata": {},
   "outputs": [
    {
     "data": {
      "text/plain": [
       "[]"
      ]
     },
     "execution_count": 10,
     "metadata": {},
     "output_type": "execute_result"
    }
   ],
   "source": [
    "plt.plot()"
   ]
  },
  {
   "cell_type": "code",
   "execution_count": 11,
   "id": "b7e2b3e0-ec96-46ca-993e-a0e67f3dec7c",
   "metadata": {},
   "outputs": [],
   "source": [
    "plt.plot();"
   ]
  }
 ],
 "metadata": {
  "kernelspec": {
   "display_name": "Python 3 (ipykernel)",
   "language": "python",
   "name": "python3"
  },
  "language_info": {
   "codemirror_mode": {
    "name": "ipython",
    "version": 3
   },
   "file_extension": ".py",
   "mimetype": "text/x-python",
   "name": "python",
   "nbconvert_exporter": "python",
   "pygments_lexer": "ipython3",
   "version": "3.12.5"
  }
 },
 "nbformat": 4,
 "nbformat_minor": 5
}
