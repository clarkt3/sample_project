{
 "cells": [
  {
   "cell_type": "code",
   "execution_count": 1,
   "id": "87095624-97a4-4372-b2a4-7f6b89a2ea81",
   "metadata": {},
   "outputs": [],
   "source": [
    "import numpy as np"
   ]
  },
  {
   "cell_type": "code",
   "execution_count": 74,
   "id": "3ddffb32-2aab-4db0-9130-d0bf76503dcd",
   "metadata": {},
   "outputs": [],
   "source": [
    "np.random.seed(0) # checking to see what happens if you change the seed value"
   ]
  },
  {
   "cell_type": "code",
   "execution_count": 75,
   "id": "469efbd8-93c9-4826-9ba0-630675b1625e",
   "metadata": {},
   "outputs": [],
   "source": [
    "x1 = np.random.randint(5, size=10)"
   ]
  },
  {
   "cell_type": "code",
   "execution_count": 76,
   "id": "02cc49c6-1eb0-4d21-ae40-dd254dd01854",
   "metadata": {},
   "outputs": [
    {
     "data": {
      "text/plain": [
       "array([4, 0, 3, 3, 3, 1, 3, 2, 4, 0])"
      ]
     },
     "execution_count": 76,
     "metadata": {},
     "output_type": "execute_result"
    }
   ],
   "source": [
    "x1"
   ]
  },
  {
   "cell_type": "code",
   "execution_count": 77,
   "id": "72502d54-e076-4f56-8753-ed6f4a46bf46",
   "metadata": {},
   "outputs": [
    {
     "data": {
      "text/plain": [
       "array([4, 0, 3, 3, 3, 1, 3, 2, 4, 0])"
      ]
     },
     "execution_count": 77,
     "metadata": {},
     "output_type": "execute_result"
    }
   ],
   "source": [
    "x1"
   ]
  },
  {
   "cell_type": "code",
   "execution_count": 78,
   "id": "285916db-a88c-464d-b2d8-a1b2bcad406c",
   "metadata": {},
   "outputs": [
    {
     "data": {
      "text/plain": [
       "array([4, 0, 3, 3, 3, 1, 3, 2, 4, 0])"
      ]
     },
     "execution_count": 78,
     "metadata": {},
     "output_type": "execute_result"
    }
   ],
   "source": [
    "# seed changed from 4 to 3\n",
    "x1"
   ]
  },
  {
   "cell_type": "code",
   "execution_count": 79,
   "id": "105bcd2c-f8c4-465f-b817-0b2113828e0b",
   "metadata": {},
   "outputs": [
    {
     "data": {
      "text/plain": [
       "array([4, 0, 3, 3, 3, 1, 3, 2, 4, 0])"
      ]
     },
     "execution_count": 79,
     "metadata": {},
     "output_type": "execute_result"
    }
   ],
   "source": [
    "x1"
   ]
  },
  {
   "cell_type": "code",
   "execution_count": 80,
   "id": "1895ec55-4cc3-4041-ae25-1e2271a0e9ae",
   "metadata": {},
   "outputs": [
    {
     "data": {
      "text/plain": [
       "array([3, 4, 0, 1, 3, 0])"
      ]
     },
     "execution_count": 80,
     "metadata": {},
     "output_type": "execute_result"
    }
   ],
   "source": [
    "np.random.seed(1)\n",
    "x2 = np.random.randint(5, size=6)\n",
    "x2"
   ]
  },
  {
   "cell_type": "code",
   "execution_count": 81,
   "id": "cee1e6ee-0958-4ada-be4e-02dea55d7cbf",
   "metadata": {},
   "outputs": [
    {
     "data": {
      "text/plain": [
       "array([4, 0, 3, 3, 3, 1])"
      ]
     },
     "execution_count": 81,
     "metadata": {},
     "output_type": "execute_result"
    }
   ],
   "source": [
    "np.random.seed(0)\n",
    "x2 = np.random.randint(5, size=6)\n",
    "x2"
   ]
  },
  {
   "cell_type": "code",
   "execution_count": 82,
   "id": "7cca16ca-4e54-4fe2-822b-6e2a0d603531",
   "metadata": {},
   "outputs": [
    {
     "data": {
      "text/plain": [
       "array([2, 1, 3, 4, 2, 2])"
      ]
     },
     "execution_count": 82,
     "metadata": {},
     "output_type": "execute_result"
    }
   ],
   "source": [
    "np.random.seed(6)\n",
    "x2 = np.random.randint(5, size=6)\n",
    "x2"
   ]
  },
  {
   "cell_type": "code",
   "execution_count": 83,
   "id": "6c98ed5f-0a57-487c-bab8-9cbe0ed68bf9",
   "metadata": {},
   "outputs": [
    {
     "data": {
      "text/plain": [
       "array([0, 0, 3, 2, 3, 0])"
      ]
     },
     "execution_count": 83,
     "metadata": {},
     "output_type": "execute_result"
    }
   ],
   "source": [
    "np.random.seed(2)\n",
    "x2 = np.random.randint(5, size=6)\n",
    "x2"
   ]
  },
  {
   "cell_type": "code",
   "execution_count": 84,
   "id": "d7f8aabd-0454-48e5-9c8b-5bef8b3912e4",
   "metadata": {},
   "outputs": [
    {
     "ename": "SyntaxError",
     "evalue": "invalid syntax. Perhaps you forgot a comma? (797322942.py, line 1)",
     "output_type": "error",
     "traceback": [
      "\u001b[0;36m  Cell \u001b[0;32mIn[84], line 1\u001b[0;36m\u001b[0m\n\u001b[0;31m    x2 = np.random.randint(10 size=(3, 5))\u001b[0m\n\u001b[0m                           ^\u001b[0m\n\u001b[0;31mSyntaxError\u001b[0m\u001b[0;31m:\u001b[0m invalid syntax. Perhaps you forgot a comma?\n"
     ]
    }
   ],
   "source": [
    "x2 = np.random.randint(10 size=(3, 5))\n",
    "x2"
   ]
  },
  {
   "cell_type": "code",
   "execution_count": 85,
   "id": "5aa7c8d9-0faa-4f66-94fb-b88121408977",
   "metadata": {},
   "outputs": [
    {
     "data": {
      "text/plain": [
       "array([[7, 2, 1, 5, 4],\n",
       "       [4, 5, 7, 3, 6],\n",
       "       [4, 3, 7, 6, 1]])"
      ]
     },
     "execution_count": 85,
     "metadata": {},
     "output_type": "execute_result"
    }
   ],
   "source": [
    "x2 = np.random.randint(10, size=(3, 5))\n",
    "x2"
   ]
  },
  {
   "cell_type": "code",
   "execution_count": 29,
   "id": "b74a7c41-09bd-46b1-974a-ed1bf88e6514",
   "metadata": {},
   "outputs": [
    {
     "data": {
      "text/plain": [
       "array([[[5, 1],\n",
       "        [8, 1]]])"
      ]
     },
     "execution_count": 29,
     "metadata": {},
     "output_type": "execute_result"
    }
   ],
   "source": [
    "x3 = np.random.randint(12, size=(1, 2, 2))\n",
    "x3"
   ]
  },
  {
   "cell_type": "code",
   "execution_count": 36,
   "id": "3deb648f-3551-4069-99e1-d66416473958",
   "metadata": {},
   "outputs": [
    {
     "data": {
      "text/plain": [
       "array([[2, 3],\n",
       "       [3, 1],\n",
       "       [2, 1],\n",
       "       [1, 2],\n",
       "       [1, 1],\n",
       "       [1, 1],\n",
       "       [1, 0],\n",
       "       [0, 1],\n",
       "       [0, 2],\n",
       "       [0, 0]])"
      ]
     },
     "execution_count": 36,
     "metadata": {},
     "output_type": "execute_result"
    }
   ],
   "source": [
    "x4 = np.random.randint(4, size=(10, 2))\n",
    "x4"
   ]
  },
  {
   "cell_type": "code",
   "execution_count": 22,
   "id": "86f293dc-4edd-412b-9a62-8a3275e5070d",
   "metadata": {},
   "outputs": [
    {
     "name": "stdout",
     "output_type": "stream",
     "text": [
      "x3 ndim:  3\n"
     ]
    }
   ],
   "source": [
    "print(\"x3 ndim: \", x3.ndim)"
   ]
  },
  {
   "cell_type": "code",
   "execution_count": 25,
   "id": "a0996a2a-d197-43fa-a3f0-d0933c3542da",
   "metadata": {},
   "outputs": [
    {
     "name": "stdout",
     "output_type": "stream",
     "text": [
      "x4 ndim:  5\n"
     ]
    }
   ],
   "source": [
    "print(\"x4 ndim: \", x4.ndim)"
   ]
  },
  {
   "cell_type": "code",
   "execution_count": 28,
   "id": "d53f631d-c025-48c4-aeaf-b611e9752d14",
   "metadata": {},
   "outputs": [
    {
     "name": "stdout",
     "output_type": "stream",
     "text": [
      "x4 first array:  [[[[7 8 3 9]\n",
      "   [6 8 9 2]\n",
      "   [2 0 4 6]\n",
      "   [7 1 3 8]\n",
      "   [6 6 4 1]\n",
      "   [4 2 9 8]\n",
      "   [7 6 7 8]]\n",
      "\n",
      "  [[2 2 2 5]\n",
      "   [5 6 6 7]\n",
      "   [7 6 9 3]\n",
      "   [2 3 6 3]\n",
      "   [8 0 0 5]\n",
      "   [6 7 2 4]\n",
      "   [0 6 3 1]]\n",
      "\n",
      "  [[5 4 9 2]\n",
      "   [8 0 1 3]\n",
      "   [8 8 0 7]\n",
      "   [5 0 2 7]\n",
      "   [0 7 0 5]\n",
      "   [1 2 4 9]\n",
      "   [5 2 7 8]]\n",
      "\n",
      "  [[7 4 7 4]\n",
      "   [0 1 2 9]\n",
      "   [7 5 9 7]\n",
      "   [6 5 9 9]\n",
      "   [6 8 5 4]\n",
      "   [3 0 8 3]\n",
      "   [4 0 6 2]]\n",
      "\n",
      "  [[2 2 4 3]\n",
      "   [5 0 6 6]\n",
      "   [0 5 7 7]\n",
      "   [6 5 9 4]\n",
      "   [1 5 9 4]\n",
      "   [8 8 4 9]\n",
      "   [6 7 5 7]]\n",
      "\n",
      "  [[0 7 8 6]\n",
      "   [4 9 9 4]\n",
      "   [5 5 9 4]\n",
      "   [7 8 8 7]\n",
      "   [5 3 4 4]\n",
      "   [7 1 0 2]\n",
      "   [3 5 0 0]]]]\n"
     ]
    }
   ],
   "source": [
    "print(\"x4 first array: \", x4[:1])"
   ]
  },
  {
   "cell_type": "code",
   "execution_count": 37,
   "id": "38b1b1f3-040e-440b-b497-2c7e4b6d82c9",
   "metadata": {},
   "outputs": [],
   "source": [
    "x2 = np.random.randint(10, size=(3, 4))"
   ]
  },
  {
   "cell_type": "code",
   "execution_count": 38,
   "id": "fc5b0dcd-719f-4478-9448-e01ec7db26ed",
   "metadata": {},
   "outputs": [
    {
     "data": {
      "text/plain": [
       "array([[1, 7, 8, 4],\n",
       "       [3, 5, 6, 5],\n",
       "       [6, 3, 5, 2]])"
      ]
     },
     "execution_count": 38,
     "metadata": {},
     "output_type": "execute_result"
    }
   ],
   "source": [
    "x2"
   ]
  },
  {
   "cell_type": "code",
   "execution_count": 45,
   "id": "df14aef5-02fa-407d-86f2-a0ae9385f4ba",
   "metadata": {},
   "outputs": [],
   "source": [
    "x3 = np.random.randint(10, size=(3, 5, 5))"
   ]
  },
  {
   "cell_type": "code",
   "execution_count": 46,
   "id": "437989fe-2204-4a53-a79e-bfcb4e196896",
   "metadata": {},
   "outputs": [
    {
     "data": {
      "text/plain": [
       "array([[[8, 3, 2, 0, 4],\n",
       "        [5, 2, 2, 3, 5],\n",
       "        [3, 1, 2, 1, 9],\n",
       "        [6, 5, 5, 9, 0],\n",
       "        [4, 1, 2, 2, 5]],\n",
       "\n",
       "       [[7, 1, 7, 0, 5],\n",
       "        [0, 4, 1, 2, 0],\n",
       "        [3, 0, 5, 0, 6],\n",
       "        [9, 0, 1, 2, 0],\n",
       "        [6, 7, 7, 1, 1]],\n",
       "\n",
       "       [[4, 4, 2, 6, 3],\n",
       "        [3, 0, 1, 3, 6],\n",
       "        [8, 2, 5, 9, 9],\n",
       "        [6, 0, 3, 3, 8],\n",
       "        [0, 8, 5, 5, 7]]])"
      ]
     },
     "execution_count": 46,
     "metadata": {},
     "output_type": "execute_result"
    }
   ],
   "source": [
    "x3"
   ]
  },
  {
   "cell_type": "code",
   "execution_count": 47,
   "id": "e1ca1fec-8830-41dc-b133-45e19d80c2f0",
   "metadata": {},
   "outputs": [
    {
     "ename": "SyntaxError",
     "evalue": "invalid syntax. Perhaps you forgot a comma? (3156263994.py, line 1)",
     "output_type": "error",
     "traceback": [
      "\u001b[0;36m  Cell \u001b[0;32mIn[47], line 1\u001b[0;36m\u001b[0m\n\u001b[0;31m    print(\"x3 shape: \" x3.shape)\u001b[0m\n\u001b[0m          ^\u001b[0m\n\u001b[0;31mSyntaxError\u001b[0m\u001b[0;31m:\u001b[0m invalid syntax. Perhaps you forgot a comma?\n"
     ]
    }
   ],
   "source": [
    "print(\"x3 shape: \" x3.shape)"
   ]
  },
  {
   "cell_type": "code",
   "execution_count": 48,
   "id": "c62ed853-df93-44af-9a22-f5be4326cf55",
   "metadata": {},
   "outputs": [
    {
     "name": "stdout",
     "output_type": "stream",
     "text": [
      "x3 shape:  (3, 5, 5)\n"
     ]
    }
   ],
   "source": [
    "print(\"x3 shape: \", x3.shape)"
   ]
  },
  {
   "cell_type": "code",
   "execution_count": 49,
   "id": "5af5002c-03fc-43ae-bd13-10a286cbbf59",
   "metadata": {},
   "outputs": [
    {
     "ename": "ValueError",
     "evalue": "cannot reshape array of size 75 into shape (3,2,5)",
     "output_type": "error",
     "traceback": [
      "\u001b[0;31m---------------------------------------------------------------------------\u001b[0m",
      "\u001b[0;31mValueError\u001b[0m                                Traceback (most recent call last)",
      "Cell \u001b[0;32mIn[49], line 1\u001b[0m\n\u001b[0;32m----> 1\u001b[0m x3\u001b[38;5;241m.\u001b[39mreshape(\u001b[38;5;241m3\u001b[39m, \u001b[38;5;241m2\u001b[39m, \u001b[38;5;241m5\u001b[39m)\n",
      "\u001b[0;31mValueError\u001b[0m: cannot reshape array of size 75 into shape (3,2,5)"
     ]
    }
   ],
   "source": [
    "x3.reshape(3, 2, 5)"
   ]
  },
  {
   "cell_type": "code",
   "execution_count": 50,
   "id": "99376421-daa1-4a97-ae2b-8bb554525924",
   "metadata": {},
   "outputs": [
    {
     "ename": "ValueError",
     "evalue": "cannot reshape array of size 75 into shape (3,3,3)",
     "output_type": "error",
     "traceback": [
      "\u001b[0;31m---------------------------------------------------------------------------\u001b[0m",
      "\u001b[0;31mValueError\u001b[0m                                Traceback (most recent call last)",
      "Cell \u001b[0;32mIn[50], line 1\u001b[0m\n\u001b[0;32m----> 1\u001b[0m x3\u001b[38;5;241m.\u001b[39mreshape(\u001b[38;5;241m3\u001b[39m, \u001b[38;5;241m3\u001b[39m, \u001b[38;5;241m3\u001b[39m)\n",
      "\u001b[0;31mValueError\u001b[0m: cannot reshape array of size 75 into shape (3,3,3)"
     ]
    }
   ],
   "source": [
    "x3.reshape(3, 3, 3)"
   ]
  },
  {
   "cell_type": "code",
   "execution_count": 51,
   "id": "40224547-6dcd-4ab3-b25e-f94a47a39f00",
   "metadata": {},
   "outputs": [
    {
     "ename": "NameError",
     "evalue": "name 'nparange' is not defined",
     "output_type": "error",
     "traceback": [
      "\u001b[0;31m---------------------------------------------------------------------------\u001b[0m",
      "\u001b[0;31mNameError\u001b[0m                                 Traceback (most recent call last)",
      "Cell \u001b[0;32mIn[51], line 1\u001b[0m\n\u001b[0;32m----> 1\u001b[0m x \u001b[38;5;241m=\u001b[39m nparange(\u001b[38;5;241m10\u001b[39m)\n\u001b[1;32m      2\u001b[0m x\n",
      "\u001b[0;31mNameError\u001b[0m: name 'nparange' is not defined"
     ]
    }
   ],
   "source": [
    "x = nparange(10)\n",
    "x"
   ]
  },
  {
   "cell_type": "code",
   "execution_count": 52,
   "id": "74493052-479f-4162-b2c9-59f48595af3e",
   "metadata": {},
   "outputs": [
    {
     "data": {
      "text/plain": [
       "array([0, 1, 2, 3, 4, 5, 6, 7, 8, 9])"
      ]
     },
     "execution_count": 52,
     "metadata": {},
     "output_type": "execute_result"
    }
   ],
   "source": [
    "x = np.arange(10)\n",
    "x"
   ]
  },
  {
   "cell_type": "code",
   "execution_count": 53,
   "id": "3b6e55b5-bd7f-4123-8e17-679b2d282e40",
   "metadata": {},
   "outputs": [
    {
     "data": {
      "text/plain": [
       "array([0, 1, 2, 3, 4])"
      ]
     },
     "execution_count": 53,
     "metadata": {},
     "output_type": "execute_result"
    }
   ],
   "source": [
    "x[:5]"
   ]
  },
  {
   "cell_type": "code",
   "execution_count": 54,
   "id": "dc19ec3e-933b-4622-9464-6f1f52b03dd9",
   "metadata": {},
   "outputs": [
    {
     "data": {
      "text/plain": [
       "array([5, 6, 7, 8, 9])"
      ]
     },
     "execution_count": 54,
     "metadata": {},
     "output_type": "execute_result"
    }
   ],
   "source": [
    "x[5:]"
   ]
  },
  {
   "cell_type": "code",
   "execution_count": 55,
   "id": "bc4d8184-4dc0-41b9-8527-46c18098e558",
   "metadata": {},
   "outputs": [
    {
     "data": {
      "text/plain": [
       "array([5, 6, 7, 8, 9])"
      ]
     },
     "execution_count": 55,
     "metadata": {},
     "output_type": "execute_result"
    }
   ],
   "source": [
    "x[5::]"
   ]
  },
  {
   "cell_type": "code",
   "execution_count": 56,
   "id": "bff90143-eed9-4dce-ac49-64e2f3263965",
   "metadata": {},
   "outputs": [
    {
     "data": {
      "text/plain": [
       "array([0, 2, 4, 6, 8])"
      ]
     },
     "execution_count": 56,
     "metadata": {},
     "output_type": "execute_result"
    }
   ],
   "source": [
    "# every other element start:stop:step step over \n",
    "x[::2]"
   ]
  },
  {
   "cell_type": "code",
   "execution_count": 57,
   "id": "28f1c0e5-fb30-4251-9b1f-5fc65d3f9082",
   "metadata": {},
   "outputs": [
    {
     "data": {
      "text/plain": [
       "array([1, 3, 5, 7, 9])"
      ]
     },
     "execution_count": 57,
     "metadata": {},
     "output_type": "execute_result"
    }
   ],
   "source": [
    "# ever other element starting at index 1\n",
    "x[1::2]"
   ]
  },
  {
   "cell_type": "code",
   "execution_count": 58,
   "id": "40f445ed-806a-4c46-8f37-515a9e57c8a4",
   "metadata": {},
   "outputs": [
    {
     "data": {
      "text/plain": [
       "array([9, 8, 7, 6, 5, 4, 3, 2, 1, 0])"
      ]
     },
     "execution_count": 58,
     "metadata": {},
     "output_type": "execute_result"
    }
   ],
   "source": [
    "# all elements in reverse order\n",
    "x[::-1]"
   ]
  },
  {
   "cell_type": "code",
   "execution_count": 59,
   "id": "0892145b-e76f-4325-8fb8-5e09980a6d4d",
   "metadata": {},
   "outputs": [
    {
     "data": {
      "text/plain": [
       "array([5, 4, 3, 2, 1, 0])"
      ]
     },
     "execution_count": 59,
     "metadata": {},
     "output_type": "execute_result"
    }
   ],
   "source": [
    "# reverse every other from index 5\n",
    "x[5::-1]"
   ]
  },
  {
   "cell_type": "code",
   "execution_count": 61,
   "id": "a0fb7073-5dc9-47d9-94cd-417489cf7de4",
   "metadata": {},
   "outputs": [
    {
     "data": {
      "text/plain": [
       "array([5, 3, 1])"
      ]
     },
     "execution_count": 61,
     "metadata": {},
     "output_type": "execute_result"
    }
   ],
   "source": [
    "# forgot step value needs to be -2 for every other value\n",
    "x[5::-2]"
   ]
  },
  {
   "cell_type": "markdown",
   "id": "ad0e0d9b-8369-4707-89ad-5a1f5320d0ab",
   "metadata": {},
   "source": [
    "## ## Multi-dimentsional subarrays\n",
    "\n",
    "Multi-demensional slices work in the same way, with multiple slices separated by commas. For example:"
   ]
  },
  {
   "cell_type": "code",
   "execution_count": 62,
   "id": "c84d6283-6edc-4f45-ae6d-83e8b598c3d4",
   "metadata": {},
   "outputs": [
    {
     "data": {
      "text/plain": [
       "array([[1, 7, 8, 4],\n",
       "       [3, 5, 6, 5],\n",
       "       [6, 3, 5, 2]])"
      ]
     },
     "execution_count": 62,
     "metadata": {},
     "output_type": "execute_result"
    }
   ],
   "source": [
    "x2"
   ]
  },
  {
   "cell_type": "code",
   "execution_count": 66,
   "id": "4a91ca22-d8d9-456d-b7da-9f836486b5f0",
   "metadata": {},
   "outputs": [
    {
     "data": {
      "text/plain": [
       "array([[1, 7, 8],\n",
       "       [3, 5, 6]])"
      ]
     },
     "execution_count": 66,
     "metadata": {},
     "output_type": "execute_result"
    }
   ],
   "source": [
    "x2[:2, :3]"
   ]
  },
  {
   "cell_type": "code",
   "execution_count": 67,
   "id": "d6e6ae14-0e53-4d30-96b4-bd75fccc1f49",
   "metadata": {},
   "outputs": [
    {
     "data": {
      "text/plain": [
       "array([[1, 8],\n",
       "       [3, 6],\n",
       "       [6, 5]])"
      ]
     },
     "execution_count": 67,
     "metadata": {},
     "output_type": "execute_result"
    }
   ],
   "source": [
    "# all rows, every other column\n",
    "x2[:3, ::2]"
   ]
  },
  {
   "cell_type": "code",
   "execution_count": 68,
   "id": "6c18c340-a41e-46e6-be79-a6474b57ff66",
   "metadata": {},
   "outputs": [
    {
     "ename": "IndexError",
     "evalue": "too many indices for array: array is 1-dimensional, but 2 were indexed",
     "output_type": "error",
     "traceback": [
      "\u001b[0;31m---------------------------------------------------------------------------\u001b[0m",
      "\u001b[0;31mIndexError\u001b[0m                                Traceback (most recent call last)",
      "Cell \u001b[0;32mIn[68], line 2\u001b[0m\n\u001b[1;32m      1\u001b[0m \u001b[38;5;66;03m# subarray dimensions can even be reversed together\u001b[39;00m\n\u001b[0;32m----> 2\u001b[0m x[::\u001b[38;5;241m-\u001b[39m\u001b[38;5;241m1\u001b[39m, ::\u001b[38;5;241m-\u001b[39m\u001b[38;5;241m1\u001b[39m]\n",
      "\u001b[0;31mIndexError\u001b[0m: too many indices for array: array is 1-dimensional, but 2 were indexed"
     ]
    }
   ],
   "source": [
    "# subarray dimensions can even be reversed together\n",
    "x[::-1, ::-1]"
   ]
  },
  {
   "cell_type": "code",
   "execution_count": 69,
   "id": "6c388b45-d1c1-4cb1-aa7d-08c764c9ff25",
   "metadata": {},
   "outputs": [
    {
     "data": {
      "text/plain": [
       "array([[1, 7, 8, 4],\n",
       "       [3, 5, 6, 5],\n",
       "       [6, 3, 5, 2]])"
      ]
     },
     "execution_count": 69,
     "metadata": {},
     "output_type": "execute_result"
    }
   ],
   "source": [
    "x2"
   ]
  },
  {
   "cell_type": "code",
   "execution_count": 70,
   "id": "30a3be59-1456-4ab6-a37f-3d761416f69c",
   "metadata": {},
   "outputs": [
    {
     "data": {
      "text/plain": [
       "array([[2, 5, 3, 6],\n",
       "       [5, 6, 5, 3],\n",
       "       [4, 8, 7, 1]])"
      ]
     },
     "execution_count": 70,
     "metadata": {},
     "output_type": "execute_result"
    }
   ],
   "source": [
    "# change array to x2 x is only a 1 dimensional\n",
    "x2[::-1, ::-1]"
   ]
  },
  {
   "cell_type": "code",
   "execution_count": 71,
   "id": "2f3f2e61-1d2d-414e-b969-308646d35693",
   "metadata": {},
   "outputs": [
    {
     "data": {
      "text/plain": [
       "array([[1, 7, 8, 4],\n",
       "       [3, 5, 6, 5],\n",
       "       [6, 3, 5, 2]])"
      ]
     },
     "execution_count": 71,
     "metadata": {},
     "output_type": "execute_result"
    }
   ],
   "source": [
    "x2"
   ]
  },
  {
   "cell_type": "code",
   "execution_count": 72,
   "id": "af83ecdd-2001-4aed-b4de-8a4bc4a2d9a9",
   "metadata": {},
   "outputs": [],
   "source": [
    "x2 = np.random.randint(10, size=(3, 4))"
   ]
  },
  {
   "cell_type": "code",
   "execution_count": 73,
   "id": "ac9bfb09-818a-496b-a980-b2c0dba18d43",
   "metadata": {},
   "outputs": [
    {
     "data": {
      "text/plain": [
       "array([[9, 3, 9, 1],\n",
       "       [2, 4, 6, 7],\n",
       "       [9, 5, 8, 6]])"
      ]
     },
     "execution_count": 73,
     "metadata": {},
     "output_type": "execute_result"
    }
   ],
   "source": [
    "x2"
   ]
  },
  {
   "cell_type": "code",
   "execution_count": 86,
   "id": "6d026a99-d8ca-46cf-adcd-95332ca2bd80",
   "metadata": {},
   "outputs": [
    {
     "data": {
      "text/plain": [
       "array([[5, 0, 3, 3],\n",
       "       [7, 9, 3, 5],\n",
       "       [2, 4, 7, 6]])"
      ]
     },
     "execution_count": 86,
     "metadata": {},
     "output_type": "execute_result"
    }
   ],
   "source": [
    "np.random.seed(0)\n",
    "x2 = np.random.randint(10, size=(3, 4))\n",
    "x2"
   ]
  },
  {
   "cell_type": "code",
   "execution_count": 87,
   "id": "fe154536-152b-493f-be60-03b1c137279b",
   "metadata": {},
   "outputs": [],
   "source": [
    "x2_sub = x2[:2, :2]"
   ]
  },
  {
   "cell_type": "code",
   "execution_count": 88,
   "id": "323b6651-87eb-4d6d-b180-53a81a38c251",
   "metadata": {},
   "outputs": [
    {
     "data": {
      "text/plain": [
       "array([[5, 0, 3, 3],\n",
       "       [7, 9, 3, 5],\n",
       "       [2, 4, 7, 6]])"
      ]
     },
     "execution_count": 88,
     "metadata": {},
     "output_type": "execute_result"
    }
   ],
   "source": [
    "x2"
   ]
  },
  {
   "cell_type": "code",
   "execution_count": null,
   "id": "31216789-4058-4380-a79c-f0d4df83214e",
   "metadata": {},
   "outputs": [],
   "source": []
  }
 ],
 "metadata": {
  "kernelspec": {
   "display_name": "Python 3 (ipykernel)",
   "language": "python",
   "name": "python3"
  },
  "language_info": {
   "codemirror_mode": {
    "name": "ipython",
    "version": 3
   },
   "file_extension": ".py",
   "mimetype": "text/x-python",
   "name": "python",
   "nbconvert_exporter": "python",
   "pygments_lexer": "ipython3",
   "version": "3.12.5"
  }
 },
 "nbformat": 4,
 "nbformat_minor": 5
}
