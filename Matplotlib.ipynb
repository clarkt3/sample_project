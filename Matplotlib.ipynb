{
 "cells": [
  {
   "cell_type": "markdown",
   "id": "cf6ffa70-53b7-4feb-98de-d64e51e1e26a",
   "metadata": {},
   "source": [
    "## Why MatPlotlib?\n",
    "\n",
    "- Built on numpy arrays (and python)\n",
    "- Integrates directly with Pandas\n",
    "- Can create basic or advanced plots"
   ]
  },
  {
   "cell_type": "code",
   "execution_count": null,
   "id": "01aa96c9-1ed3-47dd-9e5f-a30ca5217488",
   "metadata": {},
   "outputs": [],
   "source": []
  }
 ],
 "metadata": {
  "kernelspec": {
   "display_name": "Python 3 (ipykernel)",
   "language": "python",
   "name": "python3"
  },
  "language_info": {
   "codemirror_mode": {
    "name": "ipython",
    "version": 3
   },
   "file_extension": ".py",
   "mimetype": "text/x-python",
   "name": "python",
   "nbconvert_exporter": "python",
   "pygments_lexer": "ipython3",
   "version": "3.12.5"
  }
 },
 "nbformat": 4,
 "nbformat_minor": 5
}
